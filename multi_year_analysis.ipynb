{
 "cells": [
  {
   "cell_type": "markdown",
   "metadata": {},
   "source": [
    "# Multi-Year Data Correlation Analysis (2020-2024)\n",
    "## Comprehensive correlation analysis across multiple years"
   ]
  },
  {
   "cell_type": "markdown",
   "metadata": {},
   "source": [
    "## 0. Setup"
   ]
  },
  {
   "cell_type": "code",
   "execution_count": null,
   "metadata": {},
   "outputs": [],
   "source": [
    "import pandas as pd\n",
    "import numpy as np\n",
    "import matplotlib.pyplot as plt\n",
    "import seaborn as sns\n",
    "from pathlib import Path\n",
    "import warnings\n",
    "\n",
    "warnings.filterwarnings('ignore')\n",
    "plt.style.use('seaborn-v0_8-whitegrid')\n",
    "plt.rcParams['figure.figsize'] = (12, 8)\n",
    "\n",
    "print(\"Libraries loaded successfully\")"
   ]
  },
  {
   "cell_type": "markdown",
   "metadata": {},
   "source": [
    "## 1. Load Merged Data"
   ]
  },
  {
   "cell_type": "code",
   "execution_count": null,
   "metadata": {},
   "outputs": [],
   "source": [
    "# Load merged data (created by merge_and_analyze.py)\n",
    "df = pd.read_pickle('analysis_results/merged_data_all_years.pkl')\n",
    "\n",
    "print(f\"Data shape: {df.shape[0]:,} rows x {df.shape[1]} columns\")\n",
    "print(f\"Memory: {df.memory_usage(deep=True).sum() / 1024**2:.2f} MB\")\n",
    "print(f\"\\nYear-Quarter range: {df['STDR_YYQU_CD'].min()} - {df['STDR_YYQU_CD'].max()}\")\n",
    "print(f\"\\nYear-Quarter distribution:\")\n",
    "print(df['STDR_YYQU_CD'].value_counts().sort_index())\n",
    "\n",
    "df.head()"
   ]
  },
  {
   "cell_type": "markdown",
   "metadata": {},
   "source": [
    "## 2. Time Zone Correlation Analysis\n",
    "\n",
    "Analyze how sales across different time zones correlate with multi-year data."
   ]
  },
  {
   "cell_type": "code",
   "execution_count": null,
   "metadata": {},
   "outputs": [],
   "source": [
    "time_cols = ['TMZON_00_06_SELNG_AMT', 'TMZON_06_11_SELNG_AMT', 'TMZON_11_14_SELNG_AMT',\n",
    "             'TMZON_14_17_SELNG_AMT', 'TMZON_17_21_SELNG_AMT', 'TMZON_21_24_SELNG_AMT']\n",
    "\n",
    "time_corr = df[time_cols].corr()\n",
    "\n",
    "plt.figure(figsize=(10, 8))\n",
    "sns.heatmap(time_corr, annot=True, fmt='.3f', cmap='RdYlBu_r', center=0,\n",
    "            square=True, linewidths=1, cbar_kws={\"shrink\": 0.8},\n",
    "            xticklabels=['00-06', '06-11', '11-14', '14-17', '17-21', '21-24'],\n",
    "            yticklabels=['00-06', '06-11', '11-14', '14-17', '17-21', '21-24'])\n",
    "plt.title('Sales Correlation by Time Zone (Multi-Year 2020-2024)', fontsize=14, fontweight='bold', pad=20)\n",
    "plt.tight_layout()\n",
    "plt.show()\n",
    "\n",
    "print(\"\\nKey Insights:\")\n",
    "print(f\"Night hours correlation (17-21 & 21-24): {time_corr.loc['TMZON_17_21_SELNG_AMT', 'TMZON_21_24_SELNG_AMT']:.3f}\")\n",
    "print(f\"Late night independence (00-06 avg): {time_corr.loc['TMZON_00_06_SELNG_AMT'].mean():.3f}\")"
   ]
  },
  {
   "cell_type": "markdown",
   "metadata": {},
   "source": [
    "## 3. Day of Week Correlation Analysis"
   ]
  },
  {
   "cell_type": "code",
   "execution_count": null,
   "metadata": {},
   "outputs": [],
   "source": [
    "day_cols = ['MON_SELNG_AMT', 'TUES_SELNG_AMT', 'WED_SELNG_AMT',\n",
    "            'THUR_SELNG_AMT', 'FRI_SELNG_AMT', 'SAT_SELNG_AMT', 'SUN_SELNG_AMT']\n",
    "\n",
    "day_corr = df[day_cols].corr()\n",
    "\n",
    "plt.figure(figsize=(10, 8))\n",
    "sns.heatmap(day_corr, annot=True, fmt='.3f', cmap='RdYlBu_r', center=0,\n",
    "            square=True, linewidths=1, cbar_kws={\"shrink\": 0.8},\n",
    "            xticklabels=['Mon', 'Tue', 'Wed', 'Thu', 'Fri', 'Sat', 'Sun'],\n",
    "            yticklabels=['Mon', 'Tue', 'Wed', 'Thu', 'Fri', 'Sat', 'Sun'])\n",
    "plt.title('Sales Correlation by Day of Week (Multi-Year 2020-2024)', fontsize=14, fontweight='bold', pad=20)\n",
    "plt.tight_layout()\n",
    "plt.show()\n",
    "\n",
    "# Statistics\n",
    "weekday_corr = day_corr.loc['MON_SELNG_AMT':'FRI_SELNG_AMT', 'MON_SELNG_AMT':'FRI_SELNG_AMT']\n",
    "weekday_avg = weekday_corr.values[np.triu_indices_from(weekday_corr.values, k=1)].mean()\n",
    "\n",
    "print(\"\\nKey Insights:\")\n",
    "print(f\"Average weekday correlation: {weekday_avg:.3f}\")\n",
    "print(f\"Weekend correlation (Sat-Sun): {day_corr.loc['SAT_SELNG_AMT', 'SUN_SELNG_AMT']:.3f}\")"
   ]
  },
  {
   "cell_type": "markdown",
   "metadata": {},
   "source": [
    "## 4. Age Group Correlation Analysis"
   ]
  },
  {
   "cell_type": "code",
   "execution_count": null,
   "metadata": {},
   "outputs": [],
   "source": [
    "age_cols = ['AGRDE_10_SELNG_AMT', 'AGRDE_20_SELNG_AMT', 'AGRDE_30_SELNG_AMT',\n",
    "            'AGRDE_40_SELNG_AMT', 'AGRDE_50_SELNG_AMT', 'AGRDE_60_ABOVE_SELNG_AMT']\n",
    "\n",
    "age_corr = df[age_cols].corr()\n",
    "\n",
    "plt.figure(figsize=(10, 8))\n",
    "sns.heatmap(age_corr, annot=True, fmt='.3f', cmap='RdYlBu_r', center=0,\n",
    "            square=True, linewidths=1, cbar_kws={\"shrink\": 0.8},\n",
    "            xticklabels=['10s', '20s', '30s', '40s', '50s', '60+'],\n",
    "            yticklabels=['10s', '20s', '30s', '40s', '50s', '60+'])\n",
    "plt.title('Sales Correlation by Age Group (Multi-Year 2020-2024)', fontsize=14, fontweight='bold', pad=20)\n",
    "plt.tight_layout()\n",
    "plt.show()\n",
    "\n",
    "# Statistics\n",
    "core_corr = age_corr.loc['AGRDE_20_SELNG_AMT':'AGRDE_40_SELNG_AMT', 'AGRDE_20_SELNG_AMT':'AGRDE_40_SELNG_AMT']\n",
    "core_avg = core_corr.values[np.triu_indices_from(core_corr.values, k=1)].mean()\n",
    "\n",
    "print(\"\\nKey Insights:\")\n",
    "print(f\"Young adult (20s-30s) correlation: {age_corr.loc['AGRDE_20_SELNG_AMT', 'AGRDE_30_SELNG_AMT']:.3f}\")\n",
    "print(f\"Core consumer group (20s-40s) avg: {core_avg:.3f}\")\n",
    "print(f\"Senior (50s-60+) correlation: {age_corr.loc['AGRDE_50_SELNG_AMT', 'AGRDE_60_ABOVE_SELNG_AMT']:.3f}\")"
   ]
  },
  {
   "cell_type": "markdown",
   "metadata": {},
   "source": [
    "## 5. Temporal Trends Analysis"
   ]
  },
  {
   "cell_type": "code",
   "execution_count": null,
   "metadata": {},
   "outputs": [],
   "source": [
    "# Aggregate by year-quarter\n",
    "time_series = df.groupby('STDR_YYQU_CD').agg({\n",
    "    'THSMON_SELNG_AMT': 'sum',\n",
    "    'THSMON_SELNG_CO': 'sum'\n",
    "}).reset_index()\n",
    "\n",
    "time_series['avg_transaction'] = time_series['THSMON_SELNG_AMT'] / time_series['THSMON_SELNG_CO']\n",
    "\n",
    "fig, axes = plt.subplots(2, 1, figsize=(14, 10))\n",
    "\n",
    "# Total sales trend\n",
    "axes[0].plot(time_series['STDR_YYQU_CD'], time_series['THSMON_SELNG_AMT'] / 1e12,\n",
    "             marker='o', linewidth=2, markersize=10, color='steelblue')\n",
    "axes[0].set_title('Total Sales Trend (2020-2024)', fontsize=14, fontweight='bold')\n",
    "axes[0].set_ylabel('Total Sales (Trillion KRW)')\n",
    "axes[0].grid(True, alpha=0.3)\n",
    "axes[0].tick_params(axis='x', rotation=45)\n",
    "\n",
    "# Average transaction trend\n",
    "axes[1].plot(time_series['STDR_YYQU_CD'], time_series['avg_transaction'] / 1000,\n",
    "             marker='s', linewidth=2, markersize=10, color='coral')\n",
    "axes[1].set_title('Average Transaction Amount Trend', fontsize=14, fontweight='bold')\n",
    "axes[1].set_xlabel('Year-Quarter')\n",
    "axes[1].set_ylabel('Avg Transaction (Thousand KRW)')\n",
    "axes[1].grid(True, alpha=0.3)\n",
    "axes[1].tick_params(axis='x', rotation=45)\n",
    "\n",
    "plt.tight_layout()\n",
    "plt.show()\n",
    "\n",
    "# Growth statistics\n",
    "total_growth = (time_series['THSMON_SELNG_AMT'].iloc[-1] / time_series['THSMON_SELNG_AMT'].iloc[0] - 1) * 100\n",
    "avg_growth = (time_series['avg_transaction'].iloc[-1] / time_series['avg_transaction'].iloc[0] - 1) * 100\n",
    "\n",
    "print(f\"\\nTotal sales growth: {total_growth:+.2f}%\")\n",
    "print(f\"Average transaction growth: {avg_growth:+.2f}%\")"
   ]
  },
  {
   "cell_type": "markdown",
   "metadata": {},
   "source": [
    "## 6. Seasonality Analysis"
   ]
  },
  {
   "cell_type": "code",
   "execution_count": null,
   "metadata": {},
   "outputs": [],
   "source": [
    "# Extract quarter from STDR_YYQU_CD\n",
    "df['quarter'] = df['STDR_YYQU_CD'].str[-1].astype(int)\n",
    "\n",
    "# Analyze by quarter\n",
    "quarter_analysis = df.groupby('quarter').agg({\n",
    "    'THSMON_SELNG_AMT': 'mean',\n",
    "    'WKEND_SELNG_AMT': 'mean',\n",
    "    'MDWK_SELNG_AMT': 'mean'\n",
    "})\n",
    "\n",
    "quarter_analysis['weekend_ratio'] = (quarter_analysis['WKEND_SELNG_AMT'] / \n",
    "                                      quarter_analysis['THSMON_SELNG_AMT'] * 100)\n",
    "\n",
    "fig, axes = plt.subplots(1, 2, figsize=(15, 5))\n",
    "\n",
    "# Average sales by quarter\n",
    "axes[0].bar(quarter_analysis.index, quarter_analysis['THSMON_SELNG_AMT'] / 1e6)\n",
    "axes[0].set_title('Average Sales by Quarter', fontsize=12, fontweight='bold')\n",
    "axes[0].set_xlabel('Quarter')\n",
    "axes[0].set_ylabel('Average Sales (Million KRW)')\n",
    "axes[0].set_xticks([1, 2, 3, 4])\n",
    "axes[0].set_xticklabels(['Q1', 'Q2', 'Q3', 'Q4'])\n",
    "\n",
    "# Weekend ratio by quarter\n",
    "axes[1].bar(quarter_analysis.index, quarter_analysis['weekend_ratio'], color='coral')\n",
    "axes[1].set_title('Weekend Sales Ratio by Quarter', fontsize=12, fontweight='bold')\n",
    "axes[1].set_xlabel('Quarter')\n",
    "axes[1].set_ylabel('Weekend Sales Ratio (%)')\n",
    "axes[1].set_xticks([1, 2, 3, 4])\n",
    "axes[1].set_xticklabels(['Q1', 'Q2', 'Q3', 'Q4'])\n",
    "\n",
    "plt.tight_layout()\n",
    "plt.show()\n",
    "\n",
    "print(\"\\nQuarter Statistics:\")\n",
    "print(quarter_analysis)"
   ]
  },
  {
   "cell_type": "markdown",
   "metadata": {},
   "source": [
    "## 7. District Type Comparison (Multi-Year)"
   ]
  },
  {
   "cell_type": "code",
   "execution_count": null,
   "metadata": {},
   "outputs": [],
   "source": [
    "district_stats = df.groupby('TRDAR_SE_CD_NM').agg({\n",
    "    'THSMON_SELNG_AMT': ['sum', 'mean'],\n",
    "    'TRDAR_CD': 'nunique',\n",
    "    'WKEND_SELNG_AMT': 'sum',\n",
    "    'MDWK_SELNG_AMT': 'sum'\n",
    "})\n",
    "\n",
    "district_stats.columns = ['total_sales', 'avg_sales', 'num_districts', 'weekend_sales', 'weekday_sales']\n",
    "district_stats['weekend_ratio'] = (district_stats['weekend_sales'] / \n",
    "                                   (district_stats['weekend_sales'] + district_stats['weekday_sales']) * 100)\n",
    "district_stats = district_stats.sort_values('total_sales', ascending=False)\n",
    "\n",
    "print(\"District Type Statistics (Multi-Year):\")\n",
    "print(district_stats)\n",
    "\n",
    "# Visualization\n",
    "fig, axes = plt.subplots(1, 3, figsize=(18, 5))\n",
    "\n",
    "# Total sales\n",
    "axes[0].bar(district_stats.index, district_stats['total_sales'] / 1e12)\n",
    "axes[0].set_title('Total Sales by District Type', fontsize=12, fontweight='bold')\n",
    "axes[0].set_ylabel('Total Sales (Trillion KRW)')\n",
    "axes[0].tick_params(axis='x', rotation=45)\n",
    "\n",
    "# Average sales\n",
    "axes[1].bar(district_stats.index, district_stats['avg_sales'] / 1e6, color='green')\n",
    "axes[1].set_title('Average Sales by District Type', fontsize=12, fontweight='bold')\n",
    "axes[1].set_ylabel('Average Sales (Million KRW)')\n",
    "axes[1].tick_params(axis='x', rotation=45)\n",
    "\n",
    "# Weekend ratio\n",
    "axes[2].bar(district_stats.index, district_stats['weekend_ratio'], color='coral')\n",
    "axes[2].set_title('Weekend Ratio by District Type', fontsize=12, fontweight='bold')\n",
    "axes[2].set_ylabel('Weekend Sales Ratio (%)')\n",
    "axes[2].tick_params(axis='x', rotation=45)\n",
    "\n",
    "plt.tight_layout()\n",
    "plt.show()"
   ]
  },
  {
   "cell_type": "markdown",
   "metadata": {},
   "source": [
    "## 8. Comprehensive Correlation Matrix"
   ]
  },
  {
   "cell_type": "code",
   "execution_count": null,
   "metadata": {},
   "outputs": [],
   "source": [
    "# Select key variables\n",
    "key_vars = [\n",
    "    'THSMON_SELNG_AMT',\n",
    "    'MDWK_SELNG_AMT',\n",
    "    'WKEND_SELNG_AMT',\n",
    "    'TMZON_17_21_SELNG_AMT',\n",
    "    'TMZON_21_24_SELNG_AMT',\n",
    "    'AGRDE_20_SELNG_AMT',\n",
    "    'AGRDE_30_SELNG_AMT',\n",
    "    'AGRDE_40_SELNG_AMT',\n",
    "    'ML_SELNG_AMT',\n",
    "    'FML_SELNG_AMT'\n",
    "]\n",
    "\n",
    "comprehensive_corr = df[key_vars].corr()\n",
    "\n",
    "plt.figure(figsize=(12, 10))\n",
    "sns.heatmap(comprehensive_corr, annot=True, fmt='.2f', cmap='RdYlBu_r', center=0,\n",
    "            square=True, linewidths=1, cbar_kws={\"shrink\": 0.8})\n",
    "plt.title('Comprehensive Correlation Matrix (Multi-Year 2020-2024)', fontsize=14, fontweight='bold', pad=20)\n",
    "plt.tight_layout()\n",
    "plt.show()\n",
    "\n",
    "comprehensive_corr"
   ]
  },
  {
   "cell_type": "markdown",
   "metadata": {},
   "source": [
    "## 9. Summary and Insights"
   ]
  },
  {
   "cell_type": "code",
   "execution_count": null,
   "metadata": {},
   "outputs": [],
   "source": [
    "print(\"=\"*60)\n",
    "print(\"MULTI-YEAR ANALYSIS SUMMARY (2020-2024)\")\n",
    "print(\"=\"*60)\n",
    "\n",
    "print(\"\\n[Dataset Overview]\")\n",
    "print(f\"Total records: {len(df):,}\")\n",
    "print(f\"Year-Quarter range: {df['STDR_YYQU_CD'].min()} to {df['STDR_YYQU_CD'].max()}\")\n",
    "print(f\"Number of districts: {df['TRDAR_CD'].nunique():,}\")\n",
    "print(f\"Number of industries: {df['SVC_INDUTY_CD_NM'].nunique()}\")\n",
    "\n",
    "print(\"\\n[Key Correlations]\")\n",
    "print(f\"Night economy (17-21 & 21-24): {time_corr.loc['TMZON_17_21_SELNG_AMT', 'TMZON_21_24_SELNG_AMT']:.3f}\")\n",
    "print(f\"Weekday consistency: {weekday_avg:.3f}\")\n",
    "print(f\"Core consumers (20s-40s): {core_avg:.3f}\")\n",
    "\n",
    "print(\"\\n[Growth Trends]\")\n",
    "print(f\"Total sales growth: {total_growth:+.2f}%\")\n",
    "print(f\"Avg transaction growth: {avg_growth:+.2f}%\")\n",
    "\n",
    "print(\"\\n[Recommendations for Feature Engineering]\")\n",
    "print(\"1. Night economy indicator: Combine 17-21 & 21-24 time zones (high correlation)\")\n",
    "print(\"2. Core consumer ratio: Aggregate 20s-40s age groups (consistent pattern)\")\n",
    "print(\"3. Weekend activity ratio: Strong weekday-weekend distinction\")\n",
    "print(\"4. Temporal stability: Consider quarter-based seasonality\")\n",
    "\n",
    "print(\"\\n\" + \"=\"*60)"
   ]
  }
 ],
 "metadata": {
  "kernelspec": {
   "display_name": "Python 3",
   "language": "python",
   "name": "python3"
  },
  "language_info": {
   "codemirror_mode": {
    "name": "ipython",
    "version": 3
   },
   "file_extension": ".py",
   "mimetype": "text/x-python",
   "name": "python",
   "nbconvert_exporter": "python",
   "pygments_lexer": "ipython3",
   "version": "3.12.0"
  }
 },
 "nbformat": 4,
 "nbformat_minor": 4
}
