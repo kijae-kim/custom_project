{
 "cells": [
  {
   "cell_type": "markdown",
   "id": "e744d530",
   "metadata": {},
   "source": [
    "# 생활인구 데이터 전처리\n",
    "\n",
    "이 노트북은 `population_data.csv` 파일을 전처리하여 분기별 평균 생활인구 데이터를 생성합니다."
   ]
  },
  {
   "cell_type": "code",
   "execution_count": 1,
   "id": "2c7c947b",
   "metadata": {},
   "outputs": [
    {
     "name": "stdout",
     "output_type": "stream",
     "text": [
      "✅ 라이브러리 import 완료\n"
     ]
    }
   ],
   "source": [
    "import pandas as pd\n",
    "import numpy as np\n",
    "\n",
    "# 경고 메시지 숨기기\n",
    "import warnings\n",
    "warnings.filterwarnings('ignore')\n",
    "\n",
    "print(\"✅ 라이브러리 import 완료\")"
   ]
  },
  {
   "cell_type": "markdown",
   "id": "d536dc7a",
   "metadata": {},
   "source": [
    "## Step 1: 데이터 로드"
   ]
  },
  {
   "cell_type": "code",
   "execution_count": 2,
   "id": "6a78755f",
   "metadata": {},
   "outputs": [
    {
     "name": "stdout",
     "output_type": "stream",
     "text": [
      "📂 데이터 로딩 중...\n",
      "✅ 원본 데이터: 18,591,552개 행\n",
      "✅ 메모리 사용량: 2155.7 MB\n",
      "\n",
      "📋 데이터 구조:\n",
      "<class 'pandas.core.frame.DataFrame'>\n",
      "RangeIndex: 18591552 entries, 0 to 18591551\n",
      "Data columns (total 7 columns):\n",
      " #   Column         Dtype \n",
      "---  ------         ----- \n",
      " 0   기준일ID          int64 \n",
      " 1   시간대구분          int64 \n",
      " 2   행정동코드          int64 \n",
      " 3   행정동명           object\n",
      " 4   총생활인구수         int64 \n",
      " 5   남자 20대-60대 인구  int64 \n",
      " 6   여자 20대-60대 인구  int64 \n",
      "dtypes: int64(6), object(1)\n",
      "memory usage: 992.9+ MB\n",
      "None\n"
     ]
    }
   ],
   "source": [
    "print(\"📂 데이터 로딩 중...\")\n",
    "df = pd.read_csv('data/population/population_data.csv', encoding='utf-8-sig')\n",
    "print(f\"✅ 원본 데이터: {len(df):,}개 행\")\n",
    "print(f\"✅ 메모리 사용량: {df.memory_usage(deep=True).sum() / 1024**2:.1f} MB\")\n",
    "print(f\"\\n📋 데이터 구조:\")\n",
    "print(df.info())"
   ]
  },
  {
   "cell_type": "markdown",
   "id": "a75ef821",
   "metadata": {},
   "source": [
    "## Step 2: 기준일ID를 날짜로 변환"
   ]
  },
  {
   "cell_type": "code",
   "execution_count": 3,
   "id": "d3d86ce8",
   "metadata": {},
   "outputs": [
    {
     "name": "stdout",
     "output_type": "stream",
     "text": [
      "📅 날짜 처리 중...\n",
      "✅ 연도 범위: 2020 ~ 2024\n",
      "✅ 분기: [np.int32(1), np.int32(2), np.int32(3), np.int32(4)]\n",
      "✅ 데이터 연월: 2020년 1월 ~ 2024년 12월\n",
      "\n",
      "샘플 데이터:\n",
      "      기준일ID       기준일자    연도  분기  월\n",
      "0  20200101 2020-01-01  2020   1  1\n",
      "1  20200101 2020-01-01  2020   1  1\n",
      "2  20200101 2020-01-01  2020   1  1\n",
      "3  20200101 2020-01-01  2020   1  1\n",
      "4  20200101 2020-01-01  2020   1  1\n",
      "5  20200101 2020-01-01  2020   1  1\n",
      "6  20200101 2020-01-01  2020   1  1\n",
      "7  20200101 2020-01-01  2020   1  1\n",
      "8  20200101 2020-01-01  2020   1  1\n",
      "9  20200101 2020-01-01  2020   1  1\n"
     ]
    }
   ],
   "source": [
    "print(\"📅 날짜 처리 중...\")\n",
    "\n",
    "# 20200101 → datetime으로 변환\n",
    "df['기준일자'] = pd.to_datetime(df['기준일ID'].astype(str), format='%Y%m%d')\n",
    "\n",
    "# 연도, 분기 추출\n",
    "df['연도'] = df['기준일자'].dt.year\n",
    "df['분기'] = df['기준일자'].dt.quarter\n",
    "df['월'] = df['기준일자'].dt.month\n",
    "\n",
    "print(f\"✅ 연도 범위: {df['연도'].min()} ~ {df['연도'].max()}\")\n",
    "print(f\"✅ 분기: {sorted(df['분기'].unique())}\")\n",
    "print(f\"✅ 데이터 연월: {df['연도'].min()}년 {df['월'].min()}월 ~ {df['연도'].max()}년 {df['월'].max()}월\")\n",
    "print(f\"\\n샘플 데이터:\")\n",
    "print(df[['기준일ID', '기준일자', '연도', '분기', '월']].head(10))"
   ]
  },
  {
   "cell_type": "markdown",
   "id": "873e9c99",
   "metadata": {},
   "source": [
    "## Step 3: 시간대 매핑\n",
    "\n",
    "processed_data.csv와 동일한 시간대 구분으로 매핑:\n",
    "- 0-5 → 00-06\n",
    "- 6-10 → 06-11\n",
    "- 11-13 → 11-14\n",
    "- 14-16 → 14-17\n",
    "- 17-20 → 17-21\n",
    "- 21-23 → 21-24"
   ]
  },
  {
   "cell_type": "code",
   "execution_count": 4,
   "id": "220ec3c6",
   "metadata": {},
   "outputs": [
    {
     "name": "stdout",
     "output_type": "stream",
     "text": [
      "⏰ 시간대 매핑 중...\n",
      "✅ 시간대 매핑 결과:\n",
      "시간대명\n",
      "TMZON_00_06    4647888\n",
      "TMZON_06_11    3873240\n",
      "TMZON_11_14    2323944\n",
      "TMZON_14_17    2323944\n",
      "TMZON_17_21    3098592\n",
      "TMZON_21_24    2323944\n",
      "dtype: int64\n",
      "\n",
      "샘플:\n",
      "      시간대구분         시간대명\n",
      "0         0  TMZON_00_06\n",
      "424       1  TMZON_00_06\n",
      "848       2  TMZON_00_06\n",
      "1272      3  TMZON_00_06\n",
      "1696      4  TMZON_00_06\n",
      "2120      5  TMZON_00_06\n",
      "2544      6  TMZON_06_11\n",
      "2968      7  TMZON_06_11\n",
      "3392      8  TMZON_06_11\n",
      "3816      9  TMZON_06_11\n",
      "4240     10  TMZON_06_11\n",
      "4664     11  TMZON_11_14\n",
      "5088     12  TMZON_11_14\n",
      "5512     13  TMZON_11_14\n",
      "5936     14  TMZON_14_17\n",
      "6360     15  TMZON_14_17\n",
      "6784     16  TMZON_14_17\n",
      "7208     17  TMZON_17_21\n",
      "7632     18  TMZON_17_21\n",
      "8056     19  TMZON_17_21\n",
      "8480     20  TMZON_17_21\n",
      "8904     21  TMZON_21_24\n",
      "9328     22  TMZON_21_24\n",
      "9752     23  TMZON_21_24\n"
     ]
    }
   ],
   "source": [
    "print(\"⏰ 시간대 매핑 중...\")\n",
    "\n",
    "# 시간대 매핑 함수\n",
    "def map_timeslot(hour):\n",
    "    if 0 <= hour <= 5:\n",
    "        return 'TMZON_00_06'\n",
    "    elif 6 <= hour <= 10:\n",
    "        return 'TMZON_06_11'\n",
    "    elif 11 <= hour <= 13:\n",
    "        return 'TMZON_11_14'\n",
    "    elif 14 <= hour <= 16:\n",
    "        return 'TMZON_14_17'\n",
    "    elif 17 <= hour <= 20:\n",
    "        return 'TMZON_17_21'\n",
    "    elif 21 <= hour <= 23:\n",
    "        return 'TMZON_21_24'\n",
    "    else:\n",
    "        return None\n",
    "\n",
    "# 시간대구분 칼럼에 매핑 적용\n",
    "df['시간대명'] = df['시간대구분'].apply(map_timeslot)\n",
    "\n",
    "print(f\"✅ 시간대 매핑 결과:\")\n",
    "print(df.groupby('시간대명').size().sort_index())\n",
    "print(f\"\\n샘플:\")\n",
    "print(df[['시간대구분', '시간대명']].drop_duplicates().sort_values('시간대구분'))"
   ]
  },
  {
   "cell_type": "markdown",
   "id": "a1ea9547",
   "metadata": {},
   "source": [
    "## Step 4: 그룹화 및 평균 계산\n",
    "\n",
    "행정동별, 연도별, 분기별, 시간대별로 그룹화하여 평균 생활인구 계산"
   ]
  },
  {
   "cell_type": "code",
   "execution_count": 5,
   "id": "bba4aa7b",
   "metadata": {},
   "outputs": [
    {
     "name": "stdout",
     "output_type": "stream",
     "text": [
      "📊 분기별 평균 계산 중...\n"
     ]
    },
    {
     "ename": "KeyError",
     "evalue": "'TIMESLOT'",
     "output_type": "error",
     "traceback": [
      "\u001b[31m---------------------------------------------------------------------------\u001b[39m",
      "\u001b[31mKeyError\u001b[39m                                  Traceback (most recent call last)",
      "\u001b[36mCell\u001b[39m\u001b[36m \u001b[39m\u001b[32mIn[5]\u001b[39m\u001b[32m, line 4\u001b[39m\n\u001b[32m      1\u001b[39m \u001b[38;5;28mprint\u001b[39m(\u001b[33m\"\u001b[39m\u001b[33m📊 분기별 평균 계산 중...\u001b[39m\u001b[33m\"\u001b[39m)\n\u001b[32m      3\u001b[39m \u001b[38;5;66;03m# 그룹별로 묶기\u001b[39;00m\n\u001b[32m----> \u001b[39m\u001b[32m4\u001b[39m grouped = \u001b[43mdf\u001b[49m\u001b[43m.\u001b[49m\u001b[43mgroupby\u001b[49m\u001b[43m(\u001b[49m\u001b[43m[\u001b[49m\n\u001b[32m      5\u001b[39m \u001b[43m    \u001b[49m\u001b[33;43m'\u001b[39;49m\u001b[33;43m행정동코드\u001b[39;49m\u001b[33;43m'\u001b[39;49m\u001b[43m,\u001b[49m\n\u001b[32m      6\u001b[39m \u001b[43m    \u001b[49m\u001b[33;43m'\u001b[39;49m\u001b[33;43m행정동명\u001b[39;49m\u001b[33;43m'\u001b[39;49m\u001b[43m,\u001b[49m\n\u001b[32m      7\u001b[39m \u001b[43m    \u001b[49m\u001b[33;43m'\u001b[39;49m\u001b[33;43m연도\u001b[39;49m\u001b[33;43m'\u001b[39;49m\u001b[43m,\u001b[49m\n\u001b[32m      8\u001b[39m \u001b[43m    \u001b[49m\u001b[33;43m'\u001b[39;49m\u001b[33;43m분기\u001b[39;49m\u001b[33;43m'\u001b[39;49m\u001b[43m,\u001b[49m\n\u001b[32m      9\u001b[39m \u001b[43m    \u001b[49m\u001b[33;43m'\u001b[39;49m\u001b[33;43mTIMESLOT\u001b[39;49m\u001b[33;43m'\u001b[39;49m\n\u001b[32m     10\u001b[39m \u001b[43m]\u001b[49m\u001b[43m)\u001b[49m\n\u001b[32m     12\u001b[39m \u001b[38;5;66;03m# 평균 계산 (사용 가능한 칼럼만 사용)\u001b[39;00m\n\u001b[32m     13\u001b[39m 평균_df = grouped.agg({\n\u001b[32m     14\u001b[39m     \u001b[33m'\u001b[39m\u001b[33m총생활인구수\u001b[39m\u001b[33m'\u001b[39m: \u001b[33m'\u001b[39m\u001b[33mmean\u001b[39m\u001b[33m'\u001b[39m,\n\u001b[32m     15\u001b[39m     \u001b[33m'\u001b[39m\u001b[33m남자 20대-60대 인구\u001b[39m\u001b[33m'\u001b[39m: \u001b[33m'\u001b[39m\u001b[33mmean\u001b[39m\u001b[33m'\u001b[39m,\n\u001b[32m     16\u001b[39m     \u001b[33m'\u001b[39m\u001b[33m여자 20대-60대 인구\u001b[39m\u001b[33m'\u001b[39m: \u001b[33m'\u001b[39m\u001b[33mmean\u001b[39m\u001b[33m'\u001b[39m\n\u001b[32m     17\u001b[39m }).reset_index()\n",
      "\u001b[36mFile \u001b[39m\u001b[32m~/Desktop/YDS/city_project/city_project/lib/python3.12/site-packages/pandas/core/frame.py:9210\u001b[39m, in \u001b[36mDataFrame.groupby\u001b[39m\u001b[34m(self, by, axis, level, as_index, sort, group_keys, observed, dropna)\u001b[39m\n\u001b[32m   9207\u001b[39m \u001b[38;5;28;01mif\u001b[39;00m level \u001b[38;5;129;01mis\u001b[39;00m \u001b[38;5;28;01mNone\u001b[39;00m \u001b[38;5;129;01mand\u001b[39;00m by \u001b[38;5;129;01mis\u001b[39;00m \u001b[38;5;28;01mNone\u001b[39;00m:\n\u001b[32m   9208\u001b[39m     \u001b[38;5;28;01mraise\u001b[39;00m \u001b[38;5;167;01mTypeError\u001b[39;00m(\u001b[33m\"\u001b[39m\u001b[33mYou have to supply one of \u001b[39m\u001b[33m'\u001b[39m\u001b[33mby\u001b[39m\u001b[33m'\u001b[39m\u001b[33m and \u001b[39m\u001b[33m'\u001b[39m\u001b[33mlevel\u001b[39m\u001b[33m'\u001b[39m\u001b[33m\"\u001b[39m)\n\u001b[32m-> \u001b[39m\u001b[32m9210\u001b[39m \u001b[38;5;28;01mreturn\u001b[39;00m \u001b[43mDataFrameGroupBy\u001b[49m\u001b[43m(\u001b[49m\n\u001b[32m   9211\u001b[39m \u001b[43m    \u001b[49m\u001b[43mobj\u001b[49m\u001b[43m=\u001b[49m\u001b[38;5;28;43mself\u001b[39;49m\u001b[43m,\u001b[49m\n\u001b[32m   9212\u001b[39m \u001b[43m    \u001b[49m\u001b[43mkeys\u001b[49m\u001b[43m=\u001b[49m\u001b[43mby\u001b[49m\u001b[43m,\u001b[49m\n\u001b[32m   9213\u001b[39m \u001b[43m    \u001b[49m\u001b[43maxis\u001b[49m\u001b[43m=\u001b[49m\u001b[43maxis\u001b[49m\u001b[43m,\u001b[49m\n\u001b[32m   9214\u001b[39m \u001b[43m    \u001b[49m\u001b[43mlevel\u001b[49m\u001b[43m=\u001b[49m\u001b[43mlevel\u001b[49m\u001b[43m,\u001b[49m\n\u001b[32m   9215\u001b[39m \u001b[43m    \u001b[49m\u001b[43mas_index\u001b[49m\u001b[43m=\u001b[49m\u001b[43mas_index\u001b[49m\u001b[43m,\u001b[49m\n\u001b[32m   9216\u001b[39m \u001b[43m    \u001b[49m\u001b[43msort\u001b[49m\u001b[43m=\u001b[49m\u001b[43msort\u001b[49m\u001b[43m,\u001b[49m\n\u001b[32m   9217\u001b[39m \u001b[43m    \u001b[49m\u001b[43mgroup_keys\u001b[49m\u001b[43m=\u001b[49m\u001b[43mgroup_keys\u001b[49m\u001b[43m,\u001b[49m\n\u001b[32m   9218\u001b[39m \u001b[43m    \u001b[49m\u001b[43mobserved\u001b[49m\u001b[43m=\u001b[49m\u001b[43mobserved\u001b[49m\u001b[43m,\u001b[49m\n\u001b[32m   9219\u001b[39m \u001b[43m    \u001b[49m\u001b[43mdropna\u001b[49m\u001b[43m=\u001b[49m\u001b[43mdropna\u001b[49m\u001b[43m,\u001b[49m\n\u001b[32m   9220\u001b[39m \u001b[43m\u001b[49m\u001b[43m)\u001b[49m\n",
      "\u001b[36mFile \u001b[39m\u001b[32m~/Desktop/YDS/city_project/city_project/lib/python3.12/site-packages/pandas/core/groupby/groupby.py:1331\u001b[39m, in \u001b[36mGroupBy.__init__\u001b[39m\u001b[34m(self, obj, keys, axis, level, grouper, exclusions, selection, as_index, sort, group_keys, observed, dropna)\u001b[39m\n\u001b[32m   1328\u001b[39m \u001b[38;5;28mself\u001b[39m.dropna = dropna\n\u001b[32m   1330\u001b[39m \u001b[38;5;28;01mif\u001b[39;00m grouper \u001b[38;5;129;01mis\u001b[39;00m \u001b[38;5;28;01mNone\u001b[39;00m:\n\u001b[32m-> \u001b[39m\u001b[32m1331\u001b[39m     grouper, exclusions, obj = \u001b[43mget_grouper\u001b[49m\u001b[43m(\u001b[49m\n\u001b[32m   1332\u001b[39m \u001b[43m        \u001b[49m\u001b[43mobj\u001b[49m\u001b[43m,\u001b[49m\n\u001b[32m   1333\u001b[39m \u001b[43m        \u001b[49m\u001b[43mkeys\u001b[49m\u001b[43m,\u001b[49m\n\u001b[32m   1334\u001b[39m \u001b[43m        \u001b[49m\u001b[43maxis\u001b[49m\u001b[43m=\u001b[49m\u001b[43maxis\u001b[49m\u001b[43m,\u001b[49m\n\u001b[32m   1335\u001b[39m \u001b[43m        \u001b[49m\u001b[43mlevel\u001b[49m\u001b[43m=\u001b[49m\u001b[43mlevel\u001b[49m\u001b[43m,\u001b[49m\n\u001b[32m   1336\u001b[39m \u001b[43m        \u001b[49m\u001b[43msort\u001b[49m\u001b[43m=\u001b[49m\u001b[43msort\u001b[49m\u001b[43m,\u001b[49m\n\u001b[32m   1337\u001b[39m \u001b[43m        \u001b[49m\u001b[43mobserved\u001b[49m\u001b[43m=\u001b[49m\u001b[38;5;28;43;01mFalse\u001b[39;49;00m\u001b[43m \u001b[49m\u001b[38;5;28;43;01mif\u001b[39;49;00m\u001b[43m \u001b[49m\u001b[43mobserved\u001b[49m\u001b[43m \u001b[49m\u001b[38;5;129;43;01mis\u001b[39;49;00m\u001b[43m \u001b[49m\u001b[43mlib\u001b[49m\u001b[43m.\u001b[49m\u001b[43mno_default\u001b[49m\u001b[43m \u001b[49m\u001b[38;5;28;43;01melse\u001b[39;49;00m\u001b[43m \u001b[49m\u001b[43mobserved\u001b[49m\u001b[43m,\u001b[49m\n\u001b[32m   1338\u001b[39m \u001b[43m        \u001b[49m\u001b[43mdropna\u001b[49m\u001b[43m=\u001b[49m\u001b[38;5;28;43mself\u001b[39;49m\u001b[43m.\u001b[49m\u001b[43mdropna\u001b[49m\u001b[43m,\u001b[49m\n\u001b[32m   1339\u001b[39m \u001b[43m    \u001b[49m\u001b[43m)\u001b[49m\n\u001b[32m   1341\u001b[39m \u001b[38;5;28;01mif\u001b[39;00m observed \u001b[38;5;129;01mis\u001b[39;00m lib.no_default:\n\u001b[32m   1342\u001b[39m     \u001b[38;5;28;01mif\u001b[39;00m \u001b[38;5;28many\u001b[39m(ping._passed_categorical \u001b[38;5;28;01mfor\u001b[39;00m ping \u001b[38;5;129;01min\u001b[39;00m grouper.groupings):\n",
      "\u001b[36mFile \u001b[39m\u001b[32m~/Desktop/YDS/city_project/city_project/lib/python3.12/site-packages/pandas/core/groupby/grouper.py:1043\u001b[39m, in \u001b[36mget_grouper\u001b[39m\u001b[34m(obj, key, axis, level, sort, observed, validate, dropna)\u001b[39m\n\u001b[32m   1041\u001b[39m         in_axis, level, gpr = \u001b[38;5;28;01mFalse\u001b[39;00m, gpr, \u001b[38;5;28;01mNone\u001b[39;00m\n\u001b[32m   1042\u001b[39m     \u001b[38;5;28;01melse\u001b[39;00m:\n\u001b[32m-> \u001b[39m\u001b[32m1043\u001b[39m         \u001b[38;5;28;01mraise\u001b[39;00m \u001b[38;5;167;01mKeyError\u001b[39;00m(gpr)\n\u001b[32m   1044\u001b[39m \u001b[38;5;28;01melif\u001b[39;00m \u001b[38;5;28misinstance\u001b[39m(gpr, Grouper) \u001b[38;5;129;01mand\u001b[39;00m gpr.key \u001b[38;5;129;01mis\u001b[39;00m \u001b[38;5;129;01mnot\u001b[39;00m \u001b[38;5;28;01mNone\u001b[39;00m:\n\u001b[32m   1045\u001b[39m     \u001b[38;5;66;03m# Add key to exclusions\u001b[39;00m\n\u001b[32m   1046\u001b[39m     exclusions.add(gpr.key)\n",
      "\u001b[31mKeyError\u001b[39m: 'TIMESLOT'"
     ]
    }
   ],
   "source": [
    "print(\"📊 분기별 평균 계산 중...\")\n",
    "\n",
    "# 그룹별로 묶기\n",
    "grouped = df.groupby([\n",
    "    '행정동코드',\n",
    "    '행정동명',\n",
    "    '연도',\n",
    "    '분기',\n",
    "    'TIMESLOT'\n",
    "])\n",
    "\n",
    "# 평균 계산 (사용 가능한 칼럼만 사용)\n",
    "평균_df = grouped.agg({\n",
    "    '총생활인구수': 'mean',\n",
    "    '남자 20대-60대 인구': 'mean',\n",
    "    '여자 20대-60대 인구': 'mean'\n",
    "}).reset_index()\n",
    "\n",
    "# 칼럼명 변경\n",
    "평균_df.columns = [\n",
    "    '행정동코드', '행정동명', '연도', '분기', '시간대명',\n",
    "    '평균생활인구수', '남자평균', '여자평균'\n",
    "]\n",
    "\n",
    "# 정수로 반올림\n",
    "평균_df['평균생활인구수'] = 평균_df['평균생활인구수'].round(0).astype(int)\n",
    "평균_df['남자평균'] = 평균_df['남자평균'].round(0).astype(int)\n",
    "평균_df['여자평균'] = 평균_df['여자평균'].round(0).astype(int)\n",
    "\n",
    "print(f\"✅ 그룹화 후 데이터: {len(평균_df):,}개 행\")\n",
    "print(f\"✅ 원본 대비 압축률: {len(df) / len(평균_df):.1f}배\")\n",
    "print(f\"\\n샘플 데이터:\")\n",
    "print(평균_df.head(10))"
   ]
  },
  {
   "cell_type": "markdown",
   "id": "ddc78f5e",
   "metadata": {},
   "source": [
    "## Step 5: 피벗 테이블로 시간대별 칼럼 만들기\n",
    "\n",
    "시간대를 개별 칼럼으로 펼쳐서 wide 형식으로 변환"
   ]
  },
  {
   "cell_type": "code",
   "execution_count": null,
   "id": "69094241",
   "metadata": {},
   "outputs": [],
   "source": [
    "print(\"🔄 피벗 테이블 생성 중...\")\n",
    "\n",
    "# 시간대를 칼럼으로 펼치기 - 총 생활인구\n",
    "pivot_df = 평균_df.pivot_table(\n",
    "    index=['행정동코드', '행정동명', '연도', '분기'],\n",
    "    columns='시간대명',\n",
    "    values='평균생활인구수',\n",
    "    aggfunc='mean',\n",
    "    fill_value=0\n",
    ").reset_index()\n",
    "\n",
    "# 칼럼명 정리\n",
    "pivot_df.columns.name = None\n",
    "pivot_df.columns = [\n",
    "    '행정동코드', '행정동명', '연도', '분기',\n",
    "    '생활인구_TMZON_00_06_평균', '생활인구_TMZON_06_11_평균',\n",
    "    '생활인구_TMZON_11_14_평균', '생활인구_TMZON_14_17_평균',\n",
    "    '생활인구_TMZON_17_21_평균', '생활인구_TMZON_21_24_평균'\n",
    "]\n",
    "\n",
    "print(f\"✅ Pivot 완료\")\n",
    "print(f\"   행: {len(pivot_df):,}\")\n",
    "print(f\"   칼럼: {pivot_df.shape[1]}\")\n",
    "print(f\"\\n=== Pivot 데이터 미리보기 ===\")\n",
    "print(pivot_df.head(10))\n",
    "print(f\"\\n시간대별 칼럼:\")\n",
    "timeslot_cols = [col for col in pivot_df.columns if 'TMZON' in col]\n",
    "for col in timeslot_cols:\n",
    "    print(f\"  - {col}\")"
   ]
  },
  {
   "cell_type": "markdown",
   "id": "4ddb568b",
   "metadata": {},
   "source": [
    "## Step 6: 성별/연령대 데이터 추가"
   ]
  },
  {
   "cell_type": "code",
   "execution_count": null,
   "id": "f5476224",
   "metadata": {},
   "outputs": [],
   "source": [
    "print(\"👥 성별 데이터 추가 중...\")\n",
    "\n",
    "# 성별 평균도 피벗 (20-60대)\n",
    "성별_pivot = 평균_df.groupby(['행정동코드', '행정동명', '연도', '분기']).agg({\n",
    "    '남자평균': 'mean',\n",
    "    '여자평균': 'mean'\n",
    "}).reset_index()\n",
    "\n",
    "# 정수로 변환\n",
    "성별_pivot['남자평균'] = 성별_pivot['남자평균'].round(0).astype(int)\n",
    "성별_pivot['여자평균'] = 성별_pivot['여자평균'].round(0).astype(int)\n",
    "\n",
    "# 메인 데이터와 병합 (pivot_combined 사용)\n",
    "최종_df = pivot_combined.merge(\n",
    "    성별_pivot,\n",
    "    on=['행정동코드', '행정동명', '연도', '분기'],\n",
    "    how='left'\n",
    ")\n",
    "\n",
    "최종_df.rename(columns={\n",
    "    '남자평균': '남성_20_60대_평균',\n",
    "    '여자평균': '여성_20_60대_평균'\n",
    "}, inplace=True)\n",
    "\n",
    "print(f\"✅ 성별 데이터 추가 완료\")\n",
    "print(f\"\\n최종 칼럼 목록 (총 {len(최종_df.columns)}개):\")\n",
    "\n",
    "# 칼럼 그룹별로 정리하여 출력\n",
    "기본_칼럼 = [col for col in 최종_df.columns if col in ['행정동코드', '행정동명', '연도', '분기']]\n",
    "생활인구_칼럼 = [col for col in 최종_df.columns if col.startswith('생활인구_')]\n",
    "남성_칼럼 = [col for col in 최종_df.columns if col.startswith('남성_TMZON')]\n",
    "여성_칼럼 = [col for col in 최종_df.columns if col.startswith('여성_TMZON')]\n",
    "성별_20_60_칼럼 = [col for col in 최종_df.columns if '20_60대' in col]\n",
    "\n",
    "print(f\"\\n📋 기본 정보 ({len(기본_칼럼)}개):\")\n",
    "for i, col in enumerate(기본_칼럼, 1):\n",
    "    print(f\"  {i}. {col}\")\n",
    "\n",
    "print(f\"\\n👥 시간대별 총 생활인구 ({len(생활인구_칼럼)}개):\")\n",
    "for i, col in enumerate(생활인구_칼럼, 1):\n",
    "    print(f\"  {i}. {col}\")\n",
    "\n",
    "print(f\"\\n♂️  시간대별 남성 인구 ({len(남성_칼럼)}개):\")\n",
    "for i, col in enumerate(남성_칼럼, 1):\n",
    "    print(f\"  {i}. {col}\")\n",
    "\n",
    "print(f\"\\n♀️  시간대별 여성 인구 ({len(여성_칼럼)}개):\")\n",
    "for i, col in enumerate(여성_칼럼, 1):\n",
    "    print(f\"  {i}. {col}\")\n",
    "\n",
    "print(f\"\\n👨👩 성별 20-60대 ({len(성별_20_60_칼럼)}개):\")\n",
    "for i, col in enumerate(성별_20_60_칼럼, 1):\n",
    "    print(f\"  {i}. {col}\")\n",
    "\n",
    "print(f\"\\n샘플 데이터:\")\n",
    "print(최종_df.head(3))"
   ]
  },
  {
   "cell_type": "markdown",
   "id": "6f222777",
   "metadata": {},
   "source": [
    "## Step 7: 총 생활인구 및 경제활동인구 계산"
   ]
  },
  {
   "cell_type": "code",
   "execution_count": null,
   "id": "759d2e62",
   "metadata": {},
   "outputs": [
    {
     "name": "stdout",
     "output_type": "stream",
     "text": [
      "➕ 총 생활인구 계산 중...\n",
      "✅ 계산 완료\n",
      "\n",
      "기초 통계:\n",
      "            총생활인구_평균      경제활동인구_평균  남성_20_60대_평균  여성_20_60대_평균\n",
      "count    8480.000000    8480.000000   8480.000000   8480.000000\n",
      "mean    24453.132193   18123.419222   8686.830307   9436.588915\n",
      "std     12772.461002   10463.065906   5386.837809   5173.033948\n",
      "min      2716.000000    2050.000000   1061.000000    989.000000\n",
      "25%     15983.250000   11385.500000   5316.750000   6014.750000\n",
      "50%     21527.000000   15687.000000   7430.500000   8237.500000\n",
      "75%     30341.000000   22219.750000  10519.000000  11677.250000\n",
      "max    115771.000000  103187.000000  54689.000000  48801.000000\n"
     ]
    }
   ],
   "source": [
    "print(\"➕ 총 생활인구 계산 중...\")\n",
    "\n",
    "# 시간대별 평균의 평균 계산\n",
    "time_avg_cols = [col for col in 최종_df.columns if '생활인구_TMZON' in col and '평균' in col]\n",
    "최종_df['총생활인구_평균'] = 최종_df[time_avg_cols].mean(axis=1).round(0).astype(int)\n",
    "\n",
    "# 경제활동가능인구 (20-60대 남녀 합계)\n",
    "최종_df['경제활동인구_평균'] = (최종_df['남성_20_60대_평균'] + 최종_df['여성_20_60대_평균']).astype(int)\n",
    "\n",
    "print(f\"✅ 계산 완료\")\n",
    "print(f\"\\n기초 통계:\")\n",
    "print(최종_df[['총생활인구_평균', '경제활동인구_평균', '남성_20_60대_평균', '여성_20_60대_평균']].describe())"
   ]
  },
  {
   "cell_type": "markdown",
   "id": "28fa9db1",
   "metadata": {},
   "source": [
    "## Step 8: 결측치 처리"
   ]
  },
  {
   "cell_type": "code",
   "execution_count": null,
   "id": "f9d86cf2",
   "metadata": {},
   "outputs": [
    {
     "name": "stdout",
     "output_type": "stream",
     "text": [
      "🔍 결측치 확인 중...\n",
      "결측치 현황:\n",
      "Series([], dtype: int64)\n",
      "\n",
      "✅ 결측치 없음\n"
     ]
    }
   ],
   "source": [
    "print(\"🔍 결측치 확인 중...\")\n",
    "\n",
    "missing_counts = 최종_df.isnull().sum()\n",
    "print(f\"결측치 현황:\")\n",
    "print(missing_counts[missing_counts > 0])\n",
    "\n",
    "if 최종_df.isnull().sum().sum() > 0:\n",
    "    print(f\"\\n⚠️  결측치 발견! 0으로 채웁니다.\")\n",
    "    최종_df.fillna(0, inplace=True)\n",
    "    print(f\"✅ 결측치 처리 완료\")\n",
    "else:\n",
    "    print(f\"\\n✅ 결측치 없음\")"
   ]
  },
  {
   "cell_type": "markdown",
   "id": "02d36b60",
   "metadata": {},
   "source": [
    "## Step 9: 데이터 검증"
   ]
  },
  {
   "cell_type": "code",
   "execution_count": null,
   "id": "06733dab",
   "metadata": {},
   "outputs": [
    {
     "name": "stdout",
     "output_type": "stream",
     "text": [
      "✅ 데이터 검증 중...\n",
      "\n",
      "📋 최종 데이터 요약:\n",
      "   총 행 수: 8,480개\n",
      "   총 칼럼 수: 14개\n",
      "   행정동 수: 423개\n",
      "   연도 범위: 2020 ~ 2024\n",
      "   분기: [np.int32(1), np.int32(2), np.int32(3), np.int32(4)]\n",
      "\n",
      "📊 샘플 데이터 (상위 10개):\n",
      "      행정동코드   행정동명    연도  분기  생활인구_TMZON_00_06_평균  생활인구_TMZON_06_11_평균  \\\n",
      "0  11110515  청운효자동  2020   1                14620                16081   \n",
      "1  11110515  청운효자동  2020   2                14717                16401   \n",
      "2  11110515  청운효자동  2020   3                14615                16378   \n",
      "3  11110515  청운효자동  2020   4                14386                16510   \n",
      "4  11110515  청운효자동  2021   1                14650                16359   \n",
      "5  11110515  청운효자동  2021   2                14667                17091   \n",
      "6  11110515  청운효자동  2021   3                14888                16810   \n",
      "7  11110515  청운효자동  2021   4                15796                18503   \n",
      "8  11110515  청운효자동  2022   1                15417                17560   \n",
      "9  11110515  청운효자동  2022   2                15601                20257   \n",
      "\n",
      "   생활인구_TMZON_11_14_평균  생활인구_TMZON_14_17_평균  생활인구_TMZON_17_21_평균  \\\n",
      "0                17056                17031                15040   \n",
      "1                17730                17450                15344   \n",
      "2                17278                16776                15108   \n",
      "3                18050                17532                15085   \n",
      "4                17599                17350                15078   \n",
      "5                19011                18542                15732   \n",
      "6                18279                18039                15744   \n",
      "7                21393                20934                17191   \n",
      "8                19845                19598                16439   \n",
      "9                25921                24400                18067   \n",
      "\n",
      "   생활인구_TMZON_21_24_평균  남성_20_60대_평균  여성_20_60대_평균  총생활인구_평균  경제활동인구_평균  \n",
      "0                14259          5863          5846     15681      11709  \n",
      "1                14500          5791          6059     16024      11850  \n",
      "2                14344          5622          5911     15750      11533  \n",
      "3                14193          5699          5912     15959      11611  \n",
      "4                14409          5671          5871     15908      11542  \n",
      "5                14506          5679          6207     16592      11886  \n",
      "6                14796          5640          6191     16426      11831  \n",
      "7                15757          6256          6853     18262      13109  \n",
      "8                15269          6078          6514     17355      12592  \n",
      "9                15555          6174          7648     19967      13822  \n",
      "\n",
      "📈 기초 통계:\n",
      "              행정동코드           연도         분기  생활인구_TMZON_00_06_평균  \\\n",
      "count  8.480000e+03  8480.000000  8480.0000          8480.000000   \n",
      "mean   1.143320e+07  2022.000000     2.5000         23815.992453   \n",
      "std    1.916792e+05     1.414297     1.1181         10338.828230   \n",
      "min    1.111052e+07  2020.000000     1.0000          1497.000000   \n",
      "25%    1.126065e+07  2021.000000     1.7500         16521.000000   \n",
      "50%    1.144062e+07  2022.000000     2.5000         22319.500000   \n",
      "75%    1.159814e+07  2023.000000     3.2500         29553.000000   \n",
      "max    1.174070e+07  2024.000000     4.0000         68230.000000   \n",
      "\n",
      "       생활인구_TMZON_06_11_평균  생활인구_TMZON_11_14_평균  생활인구_TMZON_14_17_평균  \\\n",
      "count          8480.000000          8480.000000          8480.000000   \n",
      "mean          24404.716745         24903.329481         24965.766038   \n",
      "std           12377.213302         16460.940992         16723.648369   \n",
      "min            3172.000000          2980.000000          2974.000000   \n",
      "25%           16123.750000         14907.000000         14738.750000   \n",
      "50%           21770.000000         20698.000000         20457.000000   \n",
      "75%           30197.750000         30191.000000         30583.000000   \n",
      "max          111668.000000        159902.000000        164088.000000   \n",
      "\n",
      "       생활인구_TMZON_17_21_평균  생활인구_TMZON_21_24_평균  남성_20_60대_평균  여성_20_60대_평균  \\\n",
      "count          8480.000000          8480.000000   8480.000000   8480.000000   \n",
      "mean          24596.881958         24032.091863   8686.830307   9436.588915   \n",
      "std           13564.320020         10841.878311   5386.837809   5173.033948   \n",
      "min            2982.000000          2406.000000   1061.000000    989.000000   \n",
      "25%           15674.500000         16480.500000   5316.750000   6014.750000   \n",
      "50%           21371.500000         22097.000000   7430.500000   8237.500000   \n",
      "75%           30803.250000         30200.000000  10519.000000  11677.250000   \n",
      "max          125811.000000         85120.000000  54689.000000  48801.000000   \n",
      "\n",
      "            총생활인구_평균      경제활동인구_평균  \n",
      "count    8480.000000    8480.000000  \n",
      "mean    24453.132193   18123.419222  \n",
      "std     12772.461002   10463.065906  \n",
      "min      2716.000000    2050.000000  \n",
      "25%     15983.250000   11385.500000  \n",
      "50%     21527.000000   15687.000000  \n",
      "75%     30341.000000   22219.750000  \n",
      "max    115771.000000  103187.000000  \n"
     ]
    }
   ],
   "source": [
    "print(\"✅ 데이터 검증 중...\")\n",
    "\n",
    "print(f\"\\n📋 최종 데이터 요약:\")\n",
    "print(f\"   총 행 수: {len(최종_df):,}개\")\n",
    "print(f\"   총 칼럼 수: {len(최종_df.columns)}개\")\n",
    "print(f\"   행정동 수: {최종_df['행정동명'].nunique()}개\")\n",
    "print(f\"   연도 범위: {최종_df['연도'].min()} ~ {최종_df['연도'].max()}\")\n",
    "print(f\"   분기: {sorted(최종_df['분기'].unique())}\")\n",
    "\n",
    "print(f\"\\n📊 샘플 데이터 (상위 10개):\")\n",
    "print(최종_df.head(10))\n",
    "\n",
    "print(f\"\\n📈 기초 통계:\")\n",
    "print(최종_df.describe())"
   ]
  },
  {
   "cell_type": "markdown",
   "id": "eaf35270",
   "metadata": {},
   "source": [
    "## Step 10: 데이터 저장"
   ]
  },
  {
   "cell_type": "code",
   "execution_count": null,
   "id": "8ebf24d8",
   "metadata": {},
   "outputs": [
    {
     "name": "stdout",
     "output_type": "stream",
     "text": [
      "💾 데이터 저장 중...\n",
      "✅ 완료! 'data/population/생활인구_전처리완료.csv' 파일로 저장되었습니다.\n",
      "   파일 크기: 1.4 MB\n",
      "   원본 대비 압축률: 691.3배\n"
     ]
    }
   ],
   "source": [
    "print(\"💾 데이터 저장 중...\")\n",
    "\n",
    "# CSV 파일로 저장\n",
    "output_path = 'data/population/processed_people_data.csv'\n",
    "최종_df.to_csv(output_path, index=False, encoding='utf-8-sig')\n",
    "\n",
    "file_size = pd.read_csv(output_path).memory_usage(deep=True).sum() / 1024**2\n",
    "print(f\"✅ 완료! '{output_path}' 파일로 저장되었습니다.\")\n",
    "print(f\"   파일 크기: {file_size:.1f} MB\")\n",
    "print(f\"   원본 대비 압축률: {992.9 / file_size:.1f}배\")"
   ]
  },
  {
   "cell_type": "markdown",
   "id": "71cea3fb",
   "metadata": {},
   "source": [
    "## 추가: 샘플 조회 함수"
   ]
  },
  {
   "cell_type": "code",
   "execution_count": null,
   "id": "7b4c239b",
   "metadata": {},
   "outputs": [
    {
     "name": "stdout",
     "output_type": "stream",
     "text": [
      "\n",
      "🔍 샘플 조회 테스트:\n",
      "\n",
      "📍 청운효자동 (2020년 1분기)\n",
      "================================================================================\n",
      "\n",
      "⏰ 시간대별 평균 생활인구:\n",
      "   TMZON_00_06: 14,620명\n",
      "   TMZON_06_11: 16,081명\n",
      "   TMZON_11_14: 17,056명\n",
      "   TMZON_14_17: 17,031명\n",
      "   TMZON_17_21: 15,040명\n",
      "   TMZON_21_24: 14,259명\n",
      "\n",
      "👥 성별 및 총계:\n",
      "   총생활인구 평균: 15,681명\n",
      "   경제활동인구 평균: 11,709명\n",
      "   남성 20-60대 평균: 5,863명\n",
      "   여성 20-60대 평균: 5,846명\n"
     ]
    },
    {
     "data": {
      "text/html": [
       "<div>\n",
       "<style scoped>\n",
       "    .dataframe tbody tr th:only-of-type {\n",
       "        vertical-align: middle;\n",
       "    }\n",
       "\n",
       "    .dataframe tbody tr th {\n",
       "        vertical-align: top;\n",
       "    }\n",
       "\n",
       "    .dataframe thead th {\n",
       "        text-align: right;\n",
       "    }\n",
       "</style>\n",
       "<table border=\"1\" class=\"dataframe\">\n",
       "  <thead>\n",
       "    <tr style=\"text-align: right;\">\n",
       "      <th></th>\n",
       "      <th>행정동코드</th>\n",
       "      <th>행정동명</th>\n",
       "      <th>연도</th>\n",
       "      <th>분기</th>\n",
       "      <th>생활인구_TMZON_00_06_평균</th>\n",
       "      <th>생활인구_TMZON_06_11_평균</th>\n",
       "      <th>생활인구_TMZON_11_14_평균</th>\n",
       "      <th>생활인구_TMZON_14_17_평균</th>\n",
       "      <th>생활인구_TMZON_17_21_평균</th>\n",
       "      <th>생활인구_TMZON_21_24_평균</th>\n",
       "      <th>남성_20_60대_평균</th>\n",
       "      <th>여성_20_60대_평균</th>\n",
       "      <th>총생활인구_평균</th>\n",
       "      <th>경제활동인구_평균</th>\n",
       "    </tr>\n",
       "  </thead>\n",
       "  <tbody>\n",
       "    <tr>\n",
       "      <th>0</th>\n",
       "      <td>11110515</td>\n",
       "      <td>청운효자동</td>\n",
       "      <td>2020</td>\n",
       "      <td>1</td>\n",
       "      <td>14620</td>\n",
       "      <td>16081</td>\n",
       "      <td>17056</td>\n",
       "      <td>17031</td>\n",
       "      <td>15040</td>\n",
       "      <td>14259</td>\n",
       "      <td>5863</td>\n",
       "      <td>5846</td>\n",
       "      <td>15681</td>\n",
       "      <td>11709</td>\n",
       "    </tr>\n",
       "  </tbody>\n",
       "</table>\n",
       "</div>"
      ],
      "text/plain": [
       "      행정동코드   행정동명    연도  분기  생활인구_TMZON_00_06_평균  생활인구_TMZON_06_11_평균  \\\n",
       "0  11110515  청운효자동  2020   1                14620                16081   \n",
       "\n",
       "   생활인구_TMZON_11_14_평균  생활인구_TMZON_14_17_평균  생활인구_TMZON_17_21_평균  \\\n",
       "0                17056                17031                15040   \n",
       "\n",
       "   생활인구_TMZON_21_24_평균  남성_20_60대_평균  여성_20_60대_평균  총생활인구_평균  경제활동인구_평균  \n",
       "0                14259          5863          5846     15681      11709  "
      ]
     },
     "execution_count": 12,
     "metadata": {},
     "output_type": "execute_result"
    }
   ],
   "source": [
    "def 샘플조회(행정동명, 연도=2020, 분기=1):\n",
    "    \"\"\"\n",
    "    특정 행정동의 데이터 조회\n",
    "\n",
    "    Parameters:\n",
    "    -----------\n",
    "    행정동명 : str\n",
    "        조회할 행정동 이름\n",
    "    연도 : int\n",
    "        조회할 연도 (기본값: 2020)\n",
    "    분기 : int\n",
    "        조회할 분기 (기본값: 1)\n",
    "    \"\"\"\n",
    "    결과 = 최종_df[\n",
    "        (최종_df['행정동명'] == 행정동명) &\n",
    "        (최종_df['연도'] == 연도) &\n",
    "        (최종_df['분기'] == 분기)\n",
    "    ]\n",
    "\n",
    "    if len(결과) == 0:\n",
    "        print(f\"❌ '{행정동명}' ({연도}년 {분기}분기) 데이터를 찾을 수 없습니다.\")\n",
    "        print(f\"\\n사용 가능한 행정동: {sorted(최종_df['행정동명'].unique())[:10]}...\")\n",
    "    else:\n",
    "        print(f\"\\n📍 {행정동명} ({연도}년 {분기}분기)\")\n",
    "        print(\"=\" * 80)\n",
    "\n",
    "        # 시간대별 생활인구\n",
    "        print(f\"\\n⏰ 시간대별 평균 생활인구:\")\n",
    "        for col in 결과.columns:\n",
    "            if '생활인구_TMZON' in col and '평균' in col:\n",
    "                time_label = col.replace('생활인구_', '').replace('_평균', '')\n",
    "                print(f\"   {time_label}: {결과[col].values[0]:,}명\")\n",
    "\n",
    "        # 성별 및 총계\n",
    "        print(f\"\\n👥 성별 및 총계:\")\n",
    "        print(f\"   총생활인구 평균: {결과['총생활인구_평균'].values[0]:,}명\")\n",
    "        print(f\"   경제활동인구 평균: {결과['경제활동인구_평균'].values[0]:,}명\")\n",
    "        print(f\"   남성 20-60대 평균: {결과['남성_20_60대_평균'].values[0]:,}명\")\n",
    "        print(f\"   여성 20-60대 평균: {결과['여성_20_60대_평균'].values[0]:,}명\")\n",
    "\n",
    "        return 결과\n",
    "\n",
    "# 테스트 - 첫 번째 행정동으로 조회\n",
    "첫번째_행정동 = 최종_df['행정동명'].iloc[0]\n",
    "첫번째_연도 = 최종_df['연도'].iloc[0]\n",
    "첫번째_분기 = 최종_df['분기'].iloc[0]\n",
    "\n",
    "print(f\"\\n🔍 샘플 조회 테스트:\")\n",
    "샘플조회(첫번째_행정동, 첫번째_연도, 첫번째_분기)"
   ]
  },
  {
   "cell_type": "markdown",
   "id": "9e3f3781",
   "metadata": {},
   "source": [
    "## 📊 요약\n",
    "\n",
    "### 전처리 완료 항목:\n",
    "1. ✅ 데이터 로드 (population_data.csv)\n",
    "2. ✅ 날짜 변환 (기준일ID → 연도, 분기, 월)\n",
    "3. ✅ 시간대 매핑 (0-23시 → 6개 시간대 그룹)\n",
    "4. ✅ 행정동별, 연도별, 분기별, 시간대별 평균 계산\n",
    "5. ✅ Wide 형식으로 변환 (시간대를 개별 칼럼으로)\n",
    "6. ✅ 성별 데이터 추가 (남성/여성 20-60대)\n",
    "7. ✅ 총 생활인구 및 경제활동인구 계산\n",
    "8. ✅ 결측치 처리\n",
    "9. ✅ 데이터 저장\n",
    "\n",
    "### 최종 데이터 구조:\n",
    "- **행정동코드, 행정동명**: 행정동 정보\n",
    "- **연도, 분기**: 시간 정보\n",
    "- **생활인구_TMZON_XX_평균**: 시간대별 평균 생활인구 (6개 칼럼)\n",
    "- **총생활인구_평균**: 시간대별 평균의 평균\n",
    "- **경제활동인구_평균**: 20-60대 남녀 합계\n",
    "- **남성_20_60대_평균, 여성_20_60대_평균**: 성별 경제활동인구\n",
    "\n",
    "### 다음 단계:\n",
    "- 매출 데이터(processed_data.csv)와 병합하여 상관관계 분석\n",
    "- 시간대별, 연령대별 매출과 생활인구의 관계 분석\n",
    "- 행정동별 매출 예측 모델 개발"
   ]
  }
 ],
 "metadata": {
  "kernelspec": {
   "display_name": "city_project",
   "language": "python",
   "name": "python3"
  },
  "language_info": {
   "name": "python",
   "version": "3.12.5"
  }
 },
 "nbformat": 4,
 "nbformat_minor": 5
}
